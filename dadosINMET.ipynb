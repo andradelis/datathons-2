{
 "cells": [
  {
   "cell_type": "code",
   "execution_count": 65,
   "metadata": {},
   "outputs": [],
   "source": [
    "# libs para processamento\n",
    "from datetime import date\n",
    "import json\n",
    "\n",
    "import geopandas as gpd\n",
    "import pandas as pd\n",
    "import numpy as np\n",
    "\n",
    "from hidromet.INMET import INMET\n",
    "from hidromet.utils import dir_projeto\n",
    "from shapely.geometry import Point\n",
    "from hidromet import limpeza\n",
    "from hidromet import modelos\n",
    "\n",
    "import warnings\n",
    "warnings.filterwarnings(\"ignore\", category=RuntimeWarning)"
   ]
  },
  {
   "cell_type": "code",
   "execution_count": 2,
   "metadata": {},
   "outputs": [],
   "source": [
    "diretorio = dir_projeto()"
   ]
  },
  {
   "cell_type": "markdown",
   "metadata": {},
   "source": [
    "# Obter inventário de postos do INMET"
   ]
  },
  {
   "cell_type": "code",
   "execution_count": 26,
   "metadata": {},
   "outputs": [],
   "source": [
    "inmet = INMET()\n",
    "estacoes = inmet.listar_estacoes()\n",
    "df_estacoes = pd.DataFrame(estacoes)\n",
    "\n",
    "df_estacoes.loc[:, [\"VL_LATITUDE\", \"VL_LONGITUDE\"]] = df_estacoes.loc[:, [\"VL_LATITUDE\", \"VL_LONGITUDE\"]].apply(pd.to_numeric)"
   ]
  },
  {
   "cell_type": "markdown",
   "metadata": {},
   "source": [
    "# Recortar postos dentro do contorno das bacias"
   ]
  },
  {
   "cell_type": "markdown",
   "metadata": {},
   "source": [
    "## Tratamento dos contornos"
   ]
  },
  {
   "cell_type": "code",
   "execution_count": 28,
   "metadata": {},
   "outputs": [],
   "source": [
    "contornos = diretorio.joinpath(\"contornos\", \"contornos_smap.shp\")\n",
    "\n",
    "gdf = gpd.read_file(contornos)\n",
    "crs = gdf.crs"
   ]
  },
  {
   "cell_type": "code",
   "execution_count": 29,
   "metadata": {},
   "outputs": [],
   "source": [
    "coords = [Point(x) for x in zip(df_estacoes.VL_LONGITUDE,\n",
    "                                df_estacoes.VL_LATITUDE)]\n",
    "\n",
    "postos_plu_inmet = gpd.GeoDataFrame(df_estacoes, geometry = coords, crs = crs)"
   ]
  },
  {
   "cell_type": "markdown",
   "metadata": {},
   "source": [
    "## Postos do INMET dentro dos contornos"
   ]
  },
  {
   "cell_type": "code",
   "execution_count": 30,
   "metadata": {},
   "outputs": [],
   "source": [
    "bacias = list()\n",
    "for ix in gdf.index:\n",
    "    geometria = gdf.loc[ix, 'geometry']\n",
    "    bacia = gdf.loc[ix, 'Nome']\n",
    "    recorte_postos_inmet = postos_plu_inmet.geometry.within(geometria)\n",
    "    postos_inmet_dentro = postos_plu_inmet.loc[recorte_postos_inmet]\n",
    "    postos_inmet_dentro = postos_inmet_dentro.assign(bacia=bacia)\n",
    "\n",
    "    bacias.append(postos_inmet_dentro)\n",
    "\n"
   ]
  },
  {
   "cell_type": "code",
   "execution_count": 31,
   "metadata": {},
   "outputs": [],
   "source": [
    "df_postos_bacias = pd.concat(bacias)"
   ]
  },
  {
   "cell_type": "code",
   "execution_count": 33,
   "metadata": {},
   "outputs": [],
   "source": [
    "dir_postos = diretorio.joinpath(\"arquivos\", \"postos_plu_inmet_smap.csv\")\n",
    "df_postos_bacias.to_csv(dir_postos)"
   ]
  },
  {
   "cell_type": "markdown",
   "metadata": {},
   "source": [
    "## Obter séries de chuva por bacia"
   ]
  },
  {
   "cell_type": "code",
   "execution_count": 64,
   "metadata": {},
   "outputs": [
    {
     "name": "stdout",
     "output_type": "stream",
     "text": [
      "Obtendo séries de chuva para postos na bacia Barra Bonita.\n",
      "Obtendo séries de chuva para postos na bacia Barra Bonita-Promissão.\n",
      "Obtendo séries de chuva para postos na bacia Capivara.\n",
      "Obtendo séries de chuva para postos na bacia Emborcação.\n",
      "Obtendo séries de chuva para postos na bacia Foz do Areia.\n",
      "Obtendo séries de chuva para postos na bacia Furnas.\n",
      "Obtendo séries de chuva para postos na bacia Iguaçu.\n",
      "Obtendo séries de chuva para postos na bacia Itaipu.\n",
      "Obtendo séries de chuva para postos na bacia Itá.\n",
      "Obtendo séries de chuva para postos na bacia Promissão.\n",
      "Obtendo séries de chuva para postos na bacia Rosana.\n",
      "Obtendo séries de chuva para postos na bacia Serra da Mesa.\n",
      "Obtendo séries de chuva para postos na bacia Sobradinho.\n",
      "Obtendo séries de chuva para postos na bacia São Simão.\n",
      "Obtendo séries de chuva para postos na bacia Tocantins.\n",
      "Obtendo séries de chuva para postos na bacia Três Marias.\n",
      "Obtendo séries de chuva para postos na bacia Água Vermelha.\n"
     ]
    }
   ],
   "source": [
    "data_inicial=\"1980-01-01\"\n",
    "data_final=date.today().strftime(\"%Y-%m-%d\")\n",
    "\n",
    "dir_prec = diretorio.joinpath(\"arquivos\", \"series-chuva-inmet\")\n",
    "dir_prec.mkdir(parents=True, exist_ok=True)\n",
    "\n",
    "bacias_gp = df_postos_bacias.groupby(\"bacia\")\n",
    "bacias = bacias_gp.groups.keys()\n",
    "\n",
    "info_bacias = list()\n",
    "saida_previsao = list()\n",
    "for bacia in bacias:\n",
    "    print(f\"Obtendo séries de chuva para postos na bacia {bacia}.\")\n",
    "    bacia_df = bacias_gp.get_group(bacia)\n",
    "    n_postos = len(bacia_df.index)\n",
    "\n",
    "    chuvas_bacia = list()\n",
    "    postos_sem_dado = list()\n",
    "    postos_com_falha = list()\n",
    "    postos_nao_representativos = list()\n",
    "    postos_ok = list()\n",
    "    for estacao in bacia_df.index:\n",
    "        posto = bacia_df.loc[estacao, \"CD_ESTACAO\"]\n",
    "        estacao_json = inmet.obter_dados_estacao(cod_estacao=posto, data_inicial=data_inicial, data_final=data_final, freq=\"D\")\n",
    "        df = pd.DataFrame(estacao_json)\n",
    "        df.rename({\"DT_MEDICAO\": \"data\", \"CHUVA\": posto}, axis=1, inplace=True)\n",
    "        df.set_index(\"data\", inplace=True)\n",
    "        df.index = pd.to_datetime(df.index)\n",
    "\n",
    "        df = df[[posto]].apply(pd.to_numeric)\n",
    "\n",
    "\n",
    "        df = limpeza.remover_duplicados(df)\n",
    "        df[posto] = limpeza.recortar_periodo(\n",
    "            serie=df[posto], \n",
    "            inicio=pd.to_datetime(\"20000101\"), \n",
    "            fim=pd.Timestamp('today')\n",
    "            )\n",
    "\n",
    "        df.dropna(inplace=True)\n",
    "        \n",
    "        df[posto] = limpeza.remover_outliers(df[posto], p=0.99)\n",
    "        df[posto] = limpeza.substituir_negativos(df[posto])\n",
    "        falhas = limpeza.contabilizar_falhas(df[posto])\n",
    "        df = limpeza.remover_meses_nao_representativos(df)\n",
    "        anos_disponiveis = limpeza.anos_disponiveis(df)\n",
    "        n_dados = len(df)\n",
    "\n",
    "        info_posto = modelos.Posto(\n",
    "            latitude=bacia_df.loc[estacao, 'VL_LATITUDE'],\n",
    "            longitude=bacia_df.loc[estacao, 'VL_LONGITUDE'],\n",
    "            codigo=posto,\n",
    "            n_dados=n_dados\n",
    "        )\n",
    "\n",
    "\n",
    "        if not df.empty and falhas < 0.15 and anos_disponiveis > 8:\n",
    "            postos_ok.append(info_posto)\n",
    "            chuvas_bacia.append(df)\n",
    "        elif df.empty:\n",
    "            postos_sem_dado.append(info_posto)\n",
    "        elif anos_disponiveis < 8: \n",
    "            postos_nao_representativos.append(info_posto)\n",
    "        elif falhas > 0.15:\n",
    "            postos_com_falha.append(info_posto)\n",
    "\n",
    "\n",
    "    info_bacia = modelos.Bacia(\n",
    "        serie_vazia=postos_sem_dado,\n",
    "        nao_representativos=postos_nao_representativos,\n",
    "        com_falhas=postos_com_falha,\n",
    "        postos_ok=postos_ok,\n",
    "        n_postos=n_postos,\n",
    "        bacia=bacia\n",
    "    )\n",
    "\n",
    "\n",
    "    info_bacias.append(info_bacia)\n",
    "    try:\n",
    "        df_chuvas_bacia = pd.concat(chuvas_bacia, axis=1)\n",
    "        arquivo_bacia = dir_prec.joinpath(f\"{bacia}.csv\")\n",
    "        df_chuvas_bacia.to_csv(arquivo_bacia)\n",
    "    except (ValueError):\n",
    "        print(\n",
    "            f\"Não há séries de precipitação disponíveis para os postos encontrados na bacia {bacia}\"\n",
    "        )"
   ]
  },
  {
   "cell_type": "code",
   "execution_count": 66,
   "metadata": {},
   "outputs": [],
   "source": [
    "from pathlib import Path\n",
    "for info in info_bacias:\n",
    "    arquivo_json = Path(dir_prec, f'log_{info.bacia}.json')\n",
    "    with open(arquivo_json, 'w') as f:\n",
    "        json.dump(info.dict(), f)"
   ]
  }
 ],
 "metadata": {
  "interpreter": {
   "hash": "3344db47b484e118b2a39f253c75280a5000aa7b17e9e2f794acb36ec2c9bee6"
  },
  "kernelspec": {
   "display_name": "Python 3.9.7 64-bit ('dev-grade': conda)",
   "name": "python3"
  },
  "language_info": {
   "codemirror_mode": {
    "name": "ipython",
    "version": 3
   },
   "file_extension": ".py",
   "mimetype": "text/x-python",
   "name": "python",
   "nbconvert_exporter": "python",
   "pygments_lexer": "ipython3",
   "version": "3.9.7"
  }
 },
 "nbformat": 4,
 "nbformat_minor": 5
}
