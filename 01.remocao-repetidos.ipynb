{
 "cells": [
  {
   "cell_type": "code",
   "execution_count": 1,
   "metadata": {},
   "outputs": [],
   "source": [
    "from hidromet import config\n",
    "from hidromet import modelos\n",
    "from hidromet import utils\n",
    "\n",
    "import geopandas as gpd\n",
    "from pathlib import Path\n",
    "import pandas as pd\n",
    "import json"
   ]
  },
  {
   "cell_type": "code",
   "execution_count": 2,
   "metadata": {},
   "outputs": [],
   "source": [
    "gdf = gpd.read_file(config.dir_contorno)\n",
    "crs = gdf.crs\n",
    "bacia = gdf.iloc[0]\n",
    "nome_bacia = bacia.bacia"
   ]
  },
  {
   "cell_type": "markdown",
   "metadata": {},
   "source": [
    "### Remover repetidos"
   ]
  },
  {
   "cell_type": "code",
   "execution_count": 3,
   "metadata": {},
   "outputs": [],
   "source": [
    "arquivo_coords_inmet = config.dir_prec_inmet.joinpath(f\"coords_{nome_bacia}.json\")\n",
    "arquivo_serie_inmet = config.dir_prec_inmet.joinpath(f\"{nome_bacia}.csv\")\n",
    "\n",
    "json_inmet = utils.carregar_json(arquivo_coords_inmet)\n",
    "postos_ok = json_inmet['postos_ok']\n",
    "df_inmet = pd.DataFrame.from_dict(postos_ok).round(2)\n",
    "\n",
    "series_bacia_inmet = pd.read_csv(arquivo_serie_inmet, index_col=0)\n",
    "postos_inmet = df_inmet.codigo\n",
    "serie_inmet = series_bacia_inmet[postos_inmet]"
   ]
  },
  {
   "cell_type": "code",
   "execution_count": 4,
   "metadata": {},
   "outputs": [],
   "source": [
    "arquivo_serie_ana = config.dir_prec_ana.joinpath(f\"{nome_bacia}.csv\")\n",
    "arquivo_coords_ana = config.dir_prec_ana.joinpath(f\"coords_{nome_bacia}.json\")\n",
    "\n",
    "json_ana = utils.carregar_json(arquivo_coords_ana)\n",
    "postos_ok = json_ana['postos_ok']\n",
    "df_ana = pd.DataFrame.from_dict(postos_ok).round(2)\n",
    "\n",
    "series_bacia_ana = pd.read_csv(arquivo_serie_ana, index_col=0)\n",
    "postos_ana = df_ana.codigo\n",
    "serie_ana = series_bacia_ana[postos_ana]"
   ]
  },
  {
   "cell_type": "code",
   "execution_count": 5,
   "metadata": {},
   "outputs": [],
   "source": [
    "postos_duplicados = df_ana.merge(df_inmet, left_on=[\"latitude\", \"longitude\"], right_on=[\"latitude\", \"longitude\"], suffixes=(\"_ana\", \"_inmet\"))"
   ]
  },
  {
   "cell_type": "code",
   "execution_count": 6,
   "metadata": {},
   "outputs": [],
   "source": [
    "if not postos_duplicados.empty:\n",
    "\n",
    "    for ix in postos_duplicados.index:\n",
    "\n",
    "        posto_duplicados_ana = postos_duplicados.loc[ix, \"codigo_ana\"]\n",
    "        posto_duplicados_inmet = postos_duplicados.loc[ix, \"codigo_inmet\"]\n",
    "\n",
    "        serie_duplicada_ana = series_bacia_ana[posto_duplicados_ana].dropna()\n",
    "        serie_duplicada_inmet = series_bacia_inmet[posto_duplicados_inmet].dropna()\n",
    "\n",
    "        if len(serie_duplicada_ana) > len(posto_duplicados_inmet):\n",
    "            serie_inmet.drop([posto_duplicados_inmet], axis=1)\n",
    "            df_inmet = df_inmet[df_inmet.codigo != posto_duplicados_inmet]\n",
    "        else:\n",
    "            serie_ana.drop([posto_duplicados_ana], axis=1)\n",
    "            df_ana = df_ana[df_ana.codigo != posto_duplicados_ana]\n",
    "\n",
    "log_ana = [modelos.Posto(**df_ana.loc[ix]).dict() for ix in df_ana.index]\n",
    "log_inmet = [modelos.Posto(**df_inmet.loc[ix]).dict() for ix in df_inmet.index]\n",
    "\n",
    "logs = [*log_ana, *log_inmet]\n",
    "arquivo_json = Path(config.dir_prec_concat, f'coords_{nome_bacia}.json')\n",
    "with open(arquivo_json, 'w') as f:\n",
    "    json.dump(logs, f)\n",
    "\n",
    "df = pd.concat([serie_ana, serie_inmet], axis=1)\n",
    "df.to_csv(f\"{config.dir_prec_concat}/{nome_bacia}.csv\")\n",
    "        "
   ]
  }
 ],
 "metadata": {
  "interpreter": {
   "hash": "3344db47b484e118b2a39f253c75280a5000aa7b17e9e2f794acb36ec2c9bee6"
  },
  "kernelspec": {
   "display_name": "Python 3.9.7 64-bit ('dev-grade': conda)",
   "name": "python3"
  },
  "language_info": {
   "codemirror_mode": {
    "name": "ipython",
    "version": 3
   },
   "file_extension": ".py",
   "mimetype": "text/x-python",
   "name": "python",
   "nbconvert_exporter": "python",
   "pygments_lexer": "ipython3",
   "version": "3.9.7"
  },
  "orig_nbformat": 4
 },
 "nbformat": 4,
 "nbformat_minor": 2
}
