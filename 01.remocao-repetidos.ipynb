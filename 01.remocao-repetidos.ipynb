{
 "cells": [
  {
   "cell_type": "code",
   "execution_count": 46,
   "metadata": {},
   "outputs": [],
   "source": [
    "from hidromet import config\n",
    "from hidromet import utils\n",
    "\n",
    "import geopandas as gpd\n",
    "from pathlib import Path\n",
    "import pandas as pd\n",
    "import json\n"
   ]
  },
  {
   "cell_type": "code",
   "execution_count": 47,
   "metadata": {},
   "outputs": [],
   "source": [
    "gdf = gpd.read_file(config.dir_contorno)\n",
    "crs = gdf.crs\n",
    "bacia = gdf.iloc[0]\n",
    "nome_bacia = bacia.bacia"
   ]
  },
  {
   "cell_type": "markdown",
   "metadata": {},
   "source": [
    "### Remover repetidos"
   ]
  },
  {
   "cell_type": "code",
   "execution_count": 48,
   "metadata": {},
   "outputs": [],
   "source": [
    "def verificar_postos_duplicados(df:pd.DataFrame) -> pd.DataFrame:\n",
    "    \"\"\"\n",
    "    Verifica se há postos duplicados.\n",
    "    \"\"\"\n",
    "    \n",
    "    return df[df.duplicated(['latitude', 'longitude'], keep=False)]\n"
   ]
  },
  {
   "cell_type": "code",
   "execution_count": 49,
   "metadata": {},
   "outputs": [],
   "source": [
    "arquivo_coords_inmet = config.dir_prec_inmet.joinpath(f\"coords_{nome_bacia}.json\")\n",
    "arquivo_serie_inmet = config.dir_prec_inmet.joinpath(f\"{nome_bacia}.csv\")\n",
    "\n",
    "json_inmet = utils.carregar_json(arquivo_coords_inmet)\n",
    "postos_ok = json_inmet['postos_ok']\n",
    "df_inmet = pd.DataFrame.from_dict(postos_ok).round(2)\n",
    "\n",
    "series_bacia_inmet = pd.read_csv(arquivo_serie_inmet, index_col=0)\n",
    "postos_inmet = df_inmet.codigo\n",
    "serie_inmet = series_bacia_inmet[postos_inmet]"
   ]
  },
  {
   "cell_type": "code",
   "execution_count": 50,
   "metadata": {},
   "outputs": [],
   "source": [
    "arquivo_serie_ana = config.dir_prec_ana.joinpath(f\"{nome_bacia}.csv\")\n",
    "arquivo_coords_ana = config.dir_prec_ana.joinpath(f\"coords_{nome_bacia}.json\")\n",
    "\n",
    "json_ana = utils.carregar_json(arquivo_coords_ana)\n",
    "postos_ok = json_ana['postos_ok']\n",
    "df_ana = pd.DataFrame.from_dict(postos_ok).round(2)\n",
    "\n",
    "series_bacia_ana = pd.read_csv(arquivo_serie_ana, index_col=0)\n",
    "postos_ana = df_ana.codigo\n",
    "serie_ana = series_bacia_ana[postos_ana]"
   ]
  },
  {
   "cell_type": "code",
   "execution_count": 51,
   "metadata": {},
   "outputs": [],
   "source": [
    "df_unificado = pd.concat([df_ana, df_inmet])\n",
    "postos_duplicados = verificar_postos_duplicados(df_unificado)\n",
    "\n",
    "df_unificado.set_index('codigo', inplace=True)"
   ]
  },
  {
   "cell_type": "code",
   "execution_count": 52,
   "metadata": {},
   "outputs": [],
   "source": [
    "duplicados_agrupados = postos_duplicados.groupby([\"latitude\", \"longitude\"])\n",
    "grupos = duplicados_agrupados.groups.keys()\n",
    "\n",
    "for duplicado in grupos:\n",
    "  duplicados = duplicados_agrupados.get_group(duplicado)"
   ]
  },
  {
   "cell_type": "code",
   "execution_count": 53,
   "metadata": {},
   "outputs": [],
   "source": [
    "serie_duplicada = pd.DataFrame()\n",
    "\n",
    "for ix, grupo in enumerate(grupos):\n",
    "    duplicados = duplicados_agrupados.get_group(grupo)\n",
    "\n",
    "    if duplicados.iloc[ix].codigo in postos_ana.values:\n",
    "        serie_duplicada[duplicados.iloc[ix].codigo] = serie_ana[duplicados.iloc[ix].codigo]\n",
    "        \n",
    "    else:\n",
    "        serie_duplicada[duplicados.iloc[ix].codigo] = serie_inmet[duplicados.iloc[ix].codigo]\n",
    "\n",
    "    \n",
    "    falha = serie_duplicada.isna().sum()/len(serie_duplicada)\n",
    "    codigo_drop = falha.loc[falha.values == falha.max()].index.item()\n",
    "\n",
    "    if codigo_drop in postos_ana.values:\n",
    "        serie_ana.drop(codigo_drop, axis=1, inplace=True)\n",
    "    else:\n",
    "        serie_inmet.drop(codigo_drop, axis=1, inplace=True)\n",
    "\n",
    "    \n",
    "    df_unificado.drop(codigo_drop, axis=0, inplace=True)\n",
    "\n",
    "df = pd.concat([serie_ana, serie_inmet], axis=1)\n",
    "df.to_csv(f\"{config.dir_prec_concat}/{nome_bacia}.csv\")"
   ]
  },
  {
   "cell_type": "code",
   "execution_count": 54,
   "metadata": {},
   "outputs": [],
   "source": [
    "df_unificado_json = df_unificado.reset_index().to_dict(orient='records')\n",
    "\n",
    "arquivo_json = Path(config.dir_prec_concat, f'coords_{nome_bacia}.json')\n",
    "with open(arquivo_json, 'w') as f:\n",
    "    json.dump(df_unificado_json, f)"
   ]
  },
  {
   "cell_type": "code",
   "execution_count": null,
   "metadata": {},
   "outputs": [],
   "source": []
  }
 ],
 "metadata": {
  "interpreter": {
   "hash": "9405e057c29e55d40f52fc1b8f962b8e766a6021da215d95862c1278d4851e42"
  },
  "kernelspec": {
   "display_name": "Python 3.9.7 64-bit ('datathons-2': conda)",
   "name": "python3"
  },
  "language_info": {
   "codemirror_mode": {
    "name": "ipython",
    "version": 3
   },
   "file_extension": ".py",
   "mimetype": "text/x-python",
   "name": "python",
   "nbconvert_exporter": "python",
   "pygments_lexer": "ipython3",
   "version": "3.9.7"
  },
  "orig_nbformat": 4
 },
 "nbformat": 4,
 "nbformat_minor": 2
}
