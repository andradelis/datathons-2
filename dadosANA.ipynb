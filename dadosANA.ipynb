{
 "cells": [
  {
   "cell_type": "code",
   "execution_count": 17,
   "metadata": {},
   "outputs": [],
   "source": [
    "# libs para processamento\n",
    "import json\n",
    "\n",
    "import geopandas as gpd\n",
    "import pandas as pd\n",
    "\n",
    "from hidromet.ANA import ANA\n",
    "from hidromet.utils import dir_projeto\n",
    "from shapely.geometry import Point\n",
    "from hidromet import limpeza\n",
    "from hidromet import modelos\n",
    "\n",
    "import warnings\n",
    "warnings.filterwarnings(\"ignore\", category=RuntimeWarning)"
   ]
  },
  {
   "cell_type": "code",
   "execution_count": 2,
   "metadata": {},
   "outputs": [],
   "source": [
    "diretorio = dir_projeto()"
   ]
  },
  {
   "cell_type": "markdown",
   "metadata": {},
   "source": [
    "# Obter inventário de postos da ANA"
   ]
  },
  {
   "cell_type": "code",
   "execution_count": 3,
   "metadata": {},
   "outputs": [],
   "source": [
    "ana = ANA()\n",
    "inventario_plu = ana.inventario(tipoest=2)\n",
    "inventario_plu.loc[:, [\"latitude\", \"longitude\"]] = inventario_plu.loc[:, [\"latitude\", \"longitude\"]].apply(pd.to_numeric)"
   ]
  },
  {
   "cell_type": "markdown",
   "metadata": {},
   "source": [
    "# Recortar postos dentro do contorno das bacias"
   ]
  },
  {
   "cell_type": "markdown",
   "metadata": {},
   "source": [
    "## Tratamento dos contornos"
   ]
  },
  {
   "cell_type": "code",
   "execution_count": 4,
   "metadata": {},
   "outputs": [],
   "source": [
    "contornos = diretorio.joinpath(\"contornos\", \"contornos_smap.shp\")\n",
    "\n",
    "gdf = gpd.read_file(contornos)\n",
    "crs = gdf.crs"
   ]
  },
  {
   "cell_type": "code",
   "execution_count": 5,
   "metadata": {},
   "outputs": [],
   "source": [
    "coords = [Point(x) for x in zip(inventario_plu.longitude,\n",
    "                                inventario_plu.latitude)]\n",
    "\n",
    "postos_plu_ana = gpd.GeoDataFrame(inventario_plu, geometry = coords, crs = crs)"
   ]
  },
  {
   "cell_type": "markdown",
   "metadata": {},
   "source": [
    "## Postos da ANA dentro dos contornos"
   ]
  },
  {
   "cell_type": "code",
   "execution_count": 6,
   "metadata": {},
   "outputs": [],
   "source": [
    "bacias = list()\n",
    "for ix in gdf.index:\n",
    "    geometria = gdf.loc[ix, 'geometry']\n",
    "    bacia = gdf.loc[ix, 'Nome']\n",
    "    recorte_postos_ana = postos_plu_ana.geometry.within(geometria)\n",
    "    postos_ana_dentro = postos_plu_ana.loc[recorte_postos_ana]\n",
    "    postos_ana_dentro = postos_ana_dentro.assign(bacia=bacia)\n",
    "\n",
    "    bacias.append(postos_ana_dentro)\n",
    "\n"
   ]
  },
  {
   "cell_type": "code",
   "execution_count": 7,
   "metadata": {},
   "outputs": [],
   "source": [
    "df_postos_bacias = pd.concat(bacias)"
   ]
  },
  {
   "cell_type": "code",
   "execution_count": 8,
   "metadata": {},
   "outputs": [],
   "source": [
    "dir_postos = diretorio.joinpath(\"arquivos\", \"postos_plu_ana_smap.csv\")\n",
    "df_postos_bacias.to_csv(dir_postos)"
   ]
  },
  {
   "cell_type": "markdown",
   "metadata": {},
   "source": [
    "## Obter séries de chuva por bacia"
   ]
  },
  {
   "cell_type": "code",
   "execution_count": 11,
   "metadata": {},
   "outputs": [
    {
     "name": "stdout",
     "output_type": "stream",
     "text": [
      "Obtendo séries de chuva para postos na bacia Barra Bonita.\n",
      "Obtendo séries de chuva para postos na bacia Barra Bonita-Promissão.\n",
      "Obtendo séries de chuva para postos na bacia Capivara.\n",
      "Obtendo séries de chuva para postos na bacia Emborcação.\n",
      "Não há séries de precipitação disponíveis para os postos encontrados na bacia Emborcação\n",
      "Obtendo séries de chuva para postos na bacia Foz do Areia.\n",
      "Obtendo séries de chuva para postos na bacia Furnas.\n",
      "Obtendo séries de chuva para postos na bacia Iguaçu.\n",
      "Obtendo séries de chuva para postos na bacia Itaipu.\n",
      "Obtendo séries de chuva para postos na bacia Itá.\n",
      "Obtendo séries de chuva para postos na bacia Promissão.\n",
      "Obtendo séries de chuva para postos na bacia Rosana.\n",
      "Obtendo séries de chuva para postos na bacia Serra da Mesa.\n",
      "Obtendo séries de chuva para postos na bacia Sobradinho.\n",
      "Obtendo séries de chuva para postos na bacia São Simão.\n",
      "Obtendo séries de chuva para postos na bacia Tocantins.\n",
      "Obtendo séries de chuva para postos na bacia Três Marias.\n",
      "Obtendo séries de chuva para postos na bacia Água Vermelha.\n"
     ]
    }
   ],
   "source": [
    "dir_prec = diretorio.joinpath(\"arquivos\", \"series-chuva-ana\")\n",
    "dir_prec.mkdir(parents=True, exist_ok=True)\n",
    "\n",
    "bacias_gp = df_postos_bacias.groupby(\"bacia\")\n",
    "bacias = bacias_gp.groups.keys()\n",
    "\n",
    "info_bacias = list()\n",
    "for bacia in bacias:\n",
    "    arquivo_bacia = dir_prec.joinpath(f\"{bacia}.csv\")\n",
    "\n",
    "    print(f\"Obtendo séries de chuva para postos na bacia {bacia}.\")\n",
    "    bacia_df = bacias_gp.get_group(bacia)\n",
    "    n_postos = len(bacia_df.index)\n",
    "\n",
    "    chuvas_bacia = list()\n",
    "    postos_sem_dado = list()\n",
    "    postos_com_falha = list()\n",
    "    postos_nao_representativos = list()\n",
    "    postos_ok = list()\n",
    "    for posto in bacia_df.index:\n",
    "        df = ana.obter_chuva(cod_estacao=posto)\n",
    "        df.index = pd.to_datetime(df.index)\n",
    "\n",
    "        df = limpeza.remover_duplicados(df)\n",
    "        df[posto] = limpeza.recortar_periodo(\n",
    "            serie=df[posto], \n",
    "            inicio=pd.to_datetime(\"20000101\"), \n",
    "            fim=pd.Timestamp('today')\n",
    "            )\n",
    "        df[posto] = limpeza.remover_outliers(df[posto], p=0.99)\n",
    "        df[posto] = limpeza.substituir_negativos(df[posto])\n",
    "        falhas = limpeza.contabilizar_falhas(df[posto])\n",
    "        df = limpeza.remover_meses_nao_representativos(df)\n",
    "        anos_disponiveis = limpeza.anos_disponiveis(df)\n",
    "        n_dados = len(df)\n",
    "\n",
    "\n",
    "        info_posto = modelos.Posto(\n",
    "            latitude=bacia_df.loc[posto, 'latitude'],\n",
    "            longitude=bacia_df.loc[posto, 'longitude'],\n",
    "            codigo=posto,\n",
    "            n_dados=n_dados\n",
    "        )\n",
    "\n",
    "\n",
    "        if not df.empty and falhas < 0.15 and anos_disponiveis > 8:\n",
    "            postos_ok.append(info_posto)\n",
    "            chuvas_bacia.append(df)\n",
    "        elif df.empty:\n",
    "            postos_sem_dado.append(info_posto)\n",
    "        elif anos_disponiveis < 8: \n",
    "            postos_nao_representativos.append(info_posto)\n",
    "        elif falhas > 0.15:\n",
    "            postos_com_falha.append(info_posto)\n",
    "\n",
    "\n",
    "    info_bacia = modelos.Bacia(\n",
    "        serie_vazia=postos_sem_dado,\n",
    "        nao_representativos=postos_nao_representativos,\n",
    "        com_falhas=postos_com_falha,\n",
    "        postos_ok=postos_ok,\n",
    "        n_postos=n_postos,\n",
    "        bacia=bacia\n",
    "    )\n",
    "\n",
    "    info_bacias.append(info_bacia)\n",
    "    try:\n",
    "        df_chuvas_bacia = pd.concat(chuvas_bacia, axis=1)\n",
    "        df_chuvas_bacia.to_csv(arquivo_bacia)\n",
    "    except (ValueError):\n",
    "        print(\n",
    "            f\"Não há séries de precipitação disponíveis para os postos encontrados na bacia {bacia}\"\n",
    "        )"
   ]
  },
  {
   "cell_type": "code",
   "execution_count": 21,
   "metadata": {},
   "outputs": [],
   "source": [
    "from pathlib import Path\n",
    "for info in info_bacias:\n",
    "    arquivo_json = Path(dir_prec, f'log_{info.bacia}.json')\n",
    "    with open(arquivo_json, 'w') as f:\n",
    "        json.dump(info.dict(), f)"
   ]
  },
  {
   "cell_type": "code",
   "execution_count": 32,
   "metadata": {},
   "outputs": [
    {
     "data": {
      "text/plain": [
       "'Água Vermelha'"
      ]
     },
     "execution_count": 32,
     "metadata": {},
     "output_type": "execute_result"
    }
   ],
   "source": [
    "from shapely.geometry import Point\n",
    "\n",
    "info.bacia\n"
   ]
  },
  {
   "cell_type": "code",
   "execution_count": 33,
   "metadata": {},
   "outputs": [],
   "source": [
    "postos_ok_bacia = info.postos_ok"
   ]
  },
  {
   "cell_type": "code",
   "execution_count": 34,
   "metadata": {},
   "outputs": [
    {
     "name": "stdout",
     "output_type": "stream",
     "text": [
      "latitude=-19.79 longitude=-49.6531 codigo='1949010'\n",
      "latitude=-20.9517 longitude=-45.1531 codigo='2045035'\n",
      "latitude=-20.7489 longitude=-46.7436 codigo='2046031'\n",
      "latitude=-20.2497 longitude=-48.1561 codigo='2048103'\n",
      "latitude=-21.6108 longitude=-45.49 codigo='2145046'\n",
      "latitude=-21.2331 longitude=-45.1736 codigo='2145050'\n",
      "latitude=-21.5861 longitude=-45.6631 codigo='2145057'\n",
      "latitude=-21.7286 longitude=-46.6031 codigo='2146074'\n",
      "latitude=-21.7217 longitude=-46.4556 codigo='2146075'\n",
      "latitude=-21.5742 longitude=-46.8794 codigo='2146094'\n",
      "latitude=-21.5675 longitude=-46.6236 codigo='2146117'\n",
      "latitude=-21.6014 longitude=-46.9494 codigo='2146118'\n",
      "latitude=-21.6253 longitude=-47.0094 codigo='2147167'\n",
      "latitude=-21.9108 longitude=-47.3989 codigo='2147168'\n",
      "latitude=-21.9603 longitude=-47.3253 codigo='2147169'\n",
      "latitude=-21.1017 longitude=-47.7586 codigo='2147176'\n",
      "latitude=-22.3794 longitude=-46.9003 codigo='2246190'\n",
      "latitude=-22.3161 longitude=-46.8106 codigo='2246191'\n",
      "latitude=-22.3858 longitude=-46.7947 codigo='2246192'\n",
      "latitude=-22.025 longitude=-47.2872 codigo='2247217'\n"
     ]
    }
   ],
   "source": [
    "for posto in postos_ok_bacia:\n",
    "    print(posto)"
   ]
  },
  {
   "cell_type": "code",
   "execution_count": null,
   "metadata": {},
   "outputs": [],
   "source": []
  }
 ],
 "metadata": {
  "interpreter": {
   "hash": "3344db47b484e118b2a39f253c75280a5000aa7b17e9e2f794acb36ec2c9bee6"
  },
  "kernelspec": {
   "display_name": "Python 3.9.7 64-bit ('dev-grade': conda)",
   "name": "python3"
  },
  "language_info": {
   "codemirror_mode": {
    "name": "ipython",
    "version": 3
   },
   "file_extension": ".py",
   "mimetype": "text/x-python",
   "name": "python",
   "nbconvert_exporter": "python",
   "pygments_lexer": "ipython3",
   "version": "3.9.7"
  }
 },
 "nbformat": 4,
 "nbformat_minor": 5
}
