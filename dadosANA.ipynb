{
 "cells": [
  {
   "cell_type": "code",
   "execution_count": 15,
   "metadata": {},
   "outputs": [],
   "source": [
    "# libs para processamento\n",
    "import json\n",
    "\n",
    "import geopandas as gpd\n",
    "import pandas as pd\n",
    "\n",
    "from hidromet.ANA import ANA\n",
    "from hidromet.utils import dir_projeto\n",
    "from shapely.geometry import Point\n",
    "from hidromet import limpeza\n",
    "from hidromet import modelos\n",
    "from pathlib import Path\n",
    "\n",
    "import warnings\n",
    "warnings.filterwarnings(\"ignore\", category=RuntimeWarning)"
   ]
  },
  {
   "cell_type": "code",
   "execution_count": 2,
   "metadata": {},
   "outputs": [],
   "source": [
    "diretorio = dir_projeto()"
   ]
  },
  {
   "cell_type": "markdown",
   "metadata": {},
   "source": [
    "# Obter inventário de postos da ANA"
   ]
  },
  {
   "cell_type": "code",
   "execution_count": 3,
   "metadata": {},
   "outputs": [],
   "source": [
    "ana = ANA()\n",
    "inventario_plu = ana.inventario(tipoest=2)\n",
    "inventario_plu.loc[:, [\"latitude\", \"longitude\"]] = inventario_plu.loc[:, [\"latitude\", \"longitude\"]].apply(pd.to_numeric)"
   ]
  },
  {
   "cell_type": "markdown",
   "metadata": {},
   "source": [
    "# Recortar postos dentro do contorno das bacias"
   ]
  },
  {
   "cell_type": "markdown",
   "metadata": {},
   "source": [
    "## Tratamento dos contornos"
   ]
  },
  {
   "cell_type": "code",
   "execution_count": 4,
   "metadata": {},
   "outputs": [],
   "source": [
    "contornos = diretorio.joinpath(\"contornos\", \"iguacu.shp\")\n",
    "\n",
    "gdf = gpd.read_file(contornos)\n",
    "crs = gdf.crs"
   ]
  },
  {
   "cell_type": "code",
   "execution_count": 5,
   "metadata": {},
   "outputs": [],
   "source": [
    "coords = [Point(x) for x in zip(inventario_plu.longitude,\n",
    "                                inventario_plu.latitude)]\n",
    "\n",
    "postos_plu_ana = gpd.GeoDataFrame(inventario_plu, geometry = coords, crs = crs)"
   ]
  },
  {
   "cell_type": "markdown",
   "metadata": {},
   "source": [
    "## Postos da ANA dentro dos contornos"
   ]
  },
  {
   "cell_type": "code",
   "execution_count": 6,
   "metadata": {},
   "outputs": [],
   "source": [
    "bacias = list()\n",
    "for ix in gdf.index:\n",
    "    geometria = gdf.loc[ix, 'geometry']\n",
    "    bacia = gdf.loc[ix, 'bacia']\n",
    "    recorte_postos_ana = postos_plu_ana.geometry.within(geometria)\n",
    "    postos_ana_dentro = postos_plu_ana.loc[recorte_postos_ana]\n",
    "    postos_ana_dentro = postos_ana_dentro.assign(bacia=bacia)\n",
    "\n",
    "    bacias.append(postos_ana_dentro)\n",
    "\n"
   ]
  },
  {
   "cell_type": "code",
   "execution_count": 7,
   "metadata": {},
   "outputs": [],
   "source": [
    "df_postos_bacias = pd.concat(bacias)"
   ]
  },
  {
   "cell_type": "code",
   "execution_count": 8,
   "metadata": {},
   "outputs": [],
   "source": [
    "dir_postos = diretorio.joinpath(\"arquivos\", \"postos_plu_ana_smap.csv\")\n",
    "df_postos_bacias.to_csv(dir_postos)"
   ]
  },
  {
   "cell_type": "markdown",
   "metadata": {},
   "source": [
    "## Obter séries de chuva por bacia"
   ]
  },
  {
   "cell_type": "code",
   "execution_count": 12,
   "metadata": {},
   "outputs": [
    {
     "name": "stdout",
     "output_type": "stream",
     "text": [
      "Obtendo séries de chuva para postos na bacia Iguaçú.\n"
     ]
    }
   ],
   "source": [
    "dir_prec = diretorio.joinpath(\"arquivos\", \"series-chuva-ana\")\n",
    "dir_prec.mkdir(parents=True, exist_ok=True)\n",
    "\n",
    "bacias_gp = df_postos_bacias.groupby(\"bacia\")\n",
    "bacias = bacias_gp.groups.keys()\n",
    "\n",
    "info_bacias = list()\n",
    "for bacia in bacias:\n",
    "    arquivo_bacia = dir_prec.joinpath(f\"{bacia}.csv\")\n",
    "\n",
    "    print(f\"Obtendo séries de chuva para postos na bacia {bacia}.\")\n",
    "    bacia_df = bacias_gp.get_group(bacia)\n",
    "    bacia_df = limpeza.remover_codigos_duplicados(bacia_df)\n",
    "    n_postos = len(bacia_df.index)\n",
    "\n",
    "    chuvas_bacia = list()\n",
    "    postos_sem_dado = list()\n",
    "    postos_com_falha = list()\n",
    "    postos_nao_representativos = list()\n",
    "    postos_ok = list()\n",
    "    for posto in bacia_df.index:\n",
    "        df = ana.obter_chuva(cod_estacao=posto)\n",
    "        df.index = pd.to_datetime(df.index)\n",
    "\n",
    "        df = limpeza.remover_duplicados(df)\n",
    "        df[posto] = limpeza.recortar_periodo(\n",
    "            serie=df[posto], \n",
    "            inicio=pd.to_datetime(\"20000101\"), \n",
    "            fim=pd.Timestamp('today')\n",
    "            )\n",
    "        df[posto] = limpeza.remover_outliers(df[posto], p=0.99)\n",
    "        df[posto] = limpeza.substituir_negativos(df[posto])\n",
    "        falhas = limpeza.contabilizar_falhas(df[posto])\n",
    "        df = limpeza.remover_meses_nao_representativos(df)\n",
    "        anos_disponiveis = limpeza.anos_disponiveis(df)\n",
    "        n_dados = len(df)\n",
    "\n",
    "\n",
    "        info_posto = modelos.Posto(\n",
    "            latitude=bacia_df.loc[posto, 'latitude'],\n",
    "            longitude=bacia_df.loc[posto, 'longitude'],\n",
    "            codigo=posto,\n",
    "            n_dados=n_dados\n",
    "        )\n",
    "\n",
    "\n",
    "        if not df.empty and falhas < 0.15 and anos_disponiveis > 8:\n",
    "            postos_ok.append(info_posto)\n",
    "            chuvas_bacia.append(df)\n",
    "        elif df.empty:\n",
    "            postos_sem_dado.append(info_posto)\n",
    "        elif anos_disponiveis < 8: \n",
    "            postos_nao_representativos.append(info_posto)\n",
    "        elif falhas > 0.15:\n",
    "            postos_com_falha.append(info_posto)\n",
    "\n",
    "\n",
    "    info_bacia = modelos.Bacia(\n",
    "        serie_vazia=postos_sem_dado,\n",
    "        nao_representativos=postos_nao_representativos,\n",
    "        com_falhas=postos_com_falha,\n",
    "        postos_ok=postos_ok,\n",
    "        n_postos=n_postos,\n",
    "        bacia=bacia\n",
    "    )\n",
    "\n",
    "    info_bacias.append(info_bacia)\n",
    "    try:\n",
    "        df_chuvas_bacia = pd.concat(chuvas_bacia, axis=1)\n",
    "        df_chuvas_bacia.to_csv(arquivo_bacia)\n",
    "    except (ValueError):\n",
    "        print(\n",
    "            f\"Não há séries de precipitação disponíveis para os postos encontrados na bacia {bacia}\"\n",
    "        )"
   ]
  },
  {
   "cell_type": "code",
   "execution_count": 13,
   "metadata": {},
   "outputs": [],
   "source": [
    "for info in info_bacias:\n",
    "    arquivo_json = Path(dir_prec, f'coords_{info.bacia}.json')\n",
    "    with open(arquivo_json, 'w') as f:\n",
    "        json.dump(info.dict(), f)"
   ]
  },
  {
   "cell_type": "code",
   "execution_count": 16,
   "metadata": {},
   "outputs": [],
   "source": [
    "postos_ok_bacia = info.postos_ok"
   ]
  },
  {
   "cell_type": "code",
   "execution_count": 17,
   "metadata": {},
   "outputs": [
    {
     "name": "stdout",
     "output_type": "stream",
     "text": [
      "latitude=-25.8756 longitude=-50.3894 codigo='2550069'\n",
      "latitude=-25.3656 longitude=-51.4956 codigo='2551015'\n",
      "latitude=-25.8075 longitude=-51.2886 codigo='2551054'\n",
      "latitude=-25.2406 longitude=-51.9275 codigo='2551063'\n",
      "latitude=-25.6617 longitude=-51.6622 codigo='2551069'\n",
      "latitude=-25.7747 longitude=-52.1139 codigo='2552055'\n",
      "latitude=-25.5086 longitude=-52.2292 codigo='2552061'\n",
      "latitude=-25.6283 longitude=-52.6158 codigo='2552070'\n",
      "latitude=-25.3939 longitude=-53.1039 codigo='2553062'\n",
      "latitude=-26.1547 longitude=-49.3806 codigo='2649073'\n",
      "latitude=-26.0192 longitude=-50.5925 codigo='2650027'\n",
      "latitude=-26.0931 longitude=-51.8797 codigo='2651054'\n",
      "latitude=-26.0094 longitude=-51.6647 codigo='2651055'\n",
      "latitude=-26.0306 longitude=-51.1419 codigo='2651056'\n",
      "latitude=-26.3867 longitude=-51.2719 codigo='2651057'\n",
      "latitude=-26.1653 longitude=-51.2281 codigo='2651058'\n",
      "latitude=-26.2281 longitude=-51.0803 codigo='2651059'\n"
     ]
    }
   ],
   "source": [
    "for posto in postos_ok_bacia:\n",
    "    print(posto)"
   ]
  },
  {
   "cell_type": "code",
   "execution_count": null,
   "metadata": {},
   "outputs": [],
   "source": []
  }
 ],
 "metadata": {
  "interpreter": {
   "hash": "3344db47b484e118b2a39f253c75280a5000aa7b17e9e2f794acb36ec2c9bee6"
  },
  "kernelspec": {
   "display_name": "Python 3.9.7 64-bit ('dev-grade': conda)",
   "name": "python3"
  },
  "language_info": {
   "codemirror_mode": {
    "name": "ipython",
    "version": 3
   },
   "file_extension": ".py",
   "mimetype": "text/x-python",
   "name": "python",
   "nbconvert_exporter": "python",
   "pygments_lexer": "ipython3",
   "version": "3.9.7"
  }
 },
 "nbformat": 4,
 "nbformat_minor": 5
}
