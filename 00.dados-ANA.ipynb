{
 "cells": [
  {
   "cell_type": "code",
   "execution_count": 1,
   "id": "41a0d0b5",
   "metadata": {},
   "outputs": [],
   "source": [
    "import json\n",
    "\n",
    "import geopandas as gpd\n",
    "import pandas as pd\n",
    "\n",
    "from hidromet.ANA import ANA\n",
    "from hidromet import config\n",
    "from hidromet import limpeza\n",
    "from hidromet import modelos\n",
    "from pathlib import Path\n",
    "from hidromet import contornos\n",
    "\n",
    "import warnings\n",
    "warnings.filterwarnings(\"ignore\", category=RuntimeWarning)"
   ]
  },
  {
   "cell_type": "markdown",
   "id": "ff435961",
   "metadata": {},
   "source": [
    "# Obter inventário de postos da ANA"
   ]
  },
  {
   "cell_type": "code",
   "execution_count": 2,
   "id": "c25955fb",
   "metadata": {},
   "outputs": [],
   "source": [
    "ana = ANA()\n",
    "inventario_plu = ana.inventario(tipoest=2)\n",
    "inventario_plu.loc[:, [\"latitude\", \"longitude\"]] = inventario_plu.loc[:, [\"latitude\", \"longitude\"]].apply(pd.to_numeric)"
   ]
  },
  {
   "cell_type": "markdown",
   "id": "5522253c",
   "metadata": {},
   "source": [
    "# Recortar postos dentro do contorno das bacias"
   ]
  },
  {
   "cell_type": "markdown",
   "id": "450c9738",
   "metadata": {},
   "source": [
    "## Postos da ANA dentro dos contornos"
   ]
  },
  {
   "cell_type": "code",
   "execution_count": 3,
   "id": "105eacff",
   "metadata": {},
   "outputs": [],
   "source": [
    "gdf = gpd.read_file(config.dir_contorno)\n",
    "\n",
    "coordenadas = contornos.zipar_coordenadas(latitude=inventario_plu.latitude, longitude=inventario_plu.longitude)\n",
    "postos_plu = contornos.criar_geodataframe(coordenadas=coordenadas, df=inventario_plu)\n",
    "\n",
    "geometria = gdf.iloc[0].geometry\n",
    "bacia = gdf.iloc[0].bacia\n",
    "postos = postos_plu.geometry\n",
    "\n",
    "postos_ana_dentro = contornos.recortar_postos(postos=postos, contorno=geometria)"
   ]
  },
  {
   "cell_type": "markdown",
   "id": "80bd77e0",
   "metadata": {},
   "source": [
    "## Obter séries de chuva por posto"
   ]
  },
  {
   "cell_type": "code",
   "execution_count": 4,
   "id": "d6418cb0",
   "metadata": {},
   "outputs": [],
   "source": [
    "arquivo_bacia = config.dir_prec_ana.joinpath(f\"{bacia}.csv\")\n",
    "data_inicial = '01/01/2000'\n",
    "\n",
    "bacia_df = limpeza.remover_codigos_duplicados(postos_ana_dentro)\n",
    "n_postos = len(bacia_df.index)\n",
    "\n",
    "chuvas_bacia = list()\n",
    "postos_sem_dado = list()\n",
    "postos_com_falha = list()\n",
    "postos_nao_representativos = list()\n",
    "postos_ok = list()\n",
    "for posto in bacia_df.index:\n",
    "    coordenadas = bacia_df.loc[posto, 'geometry']\n",
    "    df = ana.obter_chuva(cod_estacao=posto, data_inicial=data_inicial)\n",
    "    df.index = pd.to_datetime(df.index)\n",
    "\n",
    "    df = limpeza.remover_duplicados(df)\n",
    "    df[posto] = limpeza.remover_outliers(df[posto])\n",
    "    df[posto] = limpeza.substituir_negativos(df[posto])\n",
    "    falhas = limpeza.contabilizar_falhas(df[posto])\n",
    "    df = limpeza.remover_meses_nao_representativos(df)\n",
    "    anos_disponiveis = limpeza.anos_disponiveis(df)\n",
    "    n_dados = len(df)\n",
    "\n",
    "\n",
    "    info_posto = modelos.Posto(\n",
    "        latitude=coordenadas.y,\n",
    "        longitude=coordenadas.x,\n",
    "        codigo=posto,\n",
    "        n_dados=n_dados\n",
    "    )\n",
    "\n",
    "    if not df.empty and falhas < 0.15 and anos_disponiveis > 8:\n",
    "        postos_ok.append(info_posto)\n",
    "        chuvas_bacia.append(df)\n",
    "    elif df.empty:\n",
    "        postos_sem_dado.append(info_posto)\n",
    "    elif anos_disponiveis < 8: \n",
    "        postos_nao_representativos.append(info_posto)\n",
    "    elif falhas > 0.15:\n",
    "        postos_com_falha.append(info_posto)\n",
    "\n",
    "\n",
    "info_bacia = modelos.Bacia(\n",
    "    serie_vazia=postos_sem_dado,\n",
    "    nao_representativos=postos_nao_representativos,\n",
    "    com_falhas=postos_com_falha,\n",
    "    postos_ok=postos_ok,\n",
    "    n_postos=n_postos,\n",
    "    bacia=bacia\n",
    ")\n",
    "\n",
    "\n",
    "df_chuva = pd.concat(chuvas_bacia, axis=1)\n",
    "df_chuva.to_csv(arquivo_bacia)\n",
    "\n",
    "arquivo_json = Path(config.dir_prec_ana, f'coords_{bacia}.json')\n",
    "with open(arquivo_json, 'w') as f:\n",
    "    json.dump(info_bacia.dict(), f)"
   ]
  }
 ],
 "metadata": {
  "interpreter": {
   "hash": "9405e057c29e55d40f52fc1b8f962b8e766a6021da215d95862c1278d4851e42"
  },
  "kernelspec": {
   "display_name": "Python 3.9.7 64-bit ('datathons-2': conda)",
   "name": "python3"
  },
  "language_info": {
   "codemirror_mode": {
    "name": "ipython",
    "version": 3
   },
   "file_extension": ".py",
   "mimetype": "text/x-python",
   "name": "python",
   "nbconvert_exporter": "python",
   "pygments_lexer": "ipython3",
   "version": "3.9.7"
  }
 },
 "nbformat": 4,
 "nbformat_minor": 5
}
