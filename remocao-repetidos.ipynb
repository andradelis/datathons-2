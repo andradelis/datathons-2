{
 "cells": [
  {
   "cell_type": "code",
   "execution_count": 1,
   "metadata": {},
   "outputs": [],
   "source": [
    "\n",
    "from hidromet.utils import dir_projeto\n",
    "from hidromet import modelos\n",
    "\n",
    "import geopandas as gpd\n",
    "from pathlib import Path\n",
    "import pandas as pd\n",
    "from pandas.errors import EmptyDataError \n",
    "import json"
   ]
  },
  {
   "cell_type": "code",
   "execution_count": 2,
   "metadata": {},
   "outputs": [],
   "source": [
    "diretorio = dir_projeto()\n",
    "\n",
    "dir_prec_ana = diretorio.joinpath(\"arquivos\", \"series-chuva-ana\")\n",
    "dir_prec_ana.mkdir(parents=True, exist_ok=True)\n",
    "\n",
    "dir_prec_inmet = diretorio.joinpath(\"arquivos\", \"series-chuva-inmet\")\n",
    "dir_prec_inmet.mkdir(parents=True, exist_ok=True)\n",
    "\n",
    "dir_prec = diretorio.joinpath(\"arquivos\", \"series-concatenadas\")\n",
    "dir_prec.mkdir(parents=True, exist_ok=True)"
   ]
  },
  {
   "cell_type": "code",
   "execution_count": 10,
   "metadata": {},
   "outputs": [],
   "source": [
    "contornos = diretorio.joinpath(\"contornos\", \"iguacu.shp\")\n",
    "\n",
    "gdf = gpd.read_file(contornos)\n",
    "crs = gdf.crs\n",
    "bacias = gdf.bacia.tolist()"
   ]
  },
  {
   "cell_type": "code",
   "execution_count": 13,
   "metadata": {},
   "outputs": [],
   "source": [
    "for bacia in bacias:\n",
    "    try:\n",
    "\n",
    "        arquivo_serie_ana = dir_prec_ana.joinpath(f\"{bacia}.csv\")\n",
    "        arquivo_serie_inmet = dir_prec_inmet.joinpath(f\"{bacia}.csv\")\n",
    "\n",
    "        series_bacia_ana = pd.read_csv(arquivo_serie_ana, index_col=0)\n",
    "        series_bacia_inmet = pd.read_csv(arquivo_serie_inmet, index_col=0)\n",
    "\n",
    "        arquivo_inmet = dir_prec_inmet.joinpath(f\"coords_{bacia}.json\")\n",
    "        dados_inmet = open(arquivo_inmet)\n",
    "        json_bacia_inmet = json.load(dados_inmet)\n",
    "        postos_ok_inmet = json_bacia_inmet['postos_ok']\n",
    "        df_inmet = pd.DataFrame.from_dict(postos_ok_inmet)\n",
    "        df_inmet = df_inmet.round(2)\n",
    "        \n",
    "        arquivo_ana = dir_prec_ana.joinpath(f\"coords_{bacia}.json\")\n",
    "        dados_ana = open(arquivo_ana)\n",
    "        json_bacia_ana = json.load(dados_ana)\n",
    "        postos_ok_ana = json_bacia_ana['postos_ok']\n",
    "        df_ana = pd.DataFrame.from_dict(postos_ok_ana)\n",
    "        df_ana = df_ana.round(2)\n",
    "\n",
    "        postos_ana = df_ana.codigo\n",
    "        postos_inmet = df_inmet.codigo\n",
    "        \n",
    "        serie_ana = series_bacia_ana[postos_ana]\n",
    "        serie_inmet = series_bacia_inmet[postos_inmet]\n",
    "    \n",
    "        postos_duplicados = df_ana.merge(df_inmet, left_on=[\"latitude\", \"longitude\"], right_on=[\"latitude\", \"longitude\"], suffixes=(\"_ana\", \"_inmet\"))\n",
    "\n",
    "        if not postos_duplicados.empty:\n",
    "\n",
    "            for ix in postos_duplicados.index:\n",
    "\n",
    "                posto_duplicados_ana = postos_duplicados.loc[ix, \"codigo_ana\"]\n",
    "                posto_duplicados_inmet = postos_duplicados.loc[ix, \"codigo_inmet\"]\n",
    "\n",
    "                serie_duplicada_ana = series_bacia_ana[posto_duplicados_ana].dropna()\n",
    "                serie_duplicada_inmet = series_bacia_inmet[posto_duplicados_inmet].dropna()\n",
    "\n",
    "                if len(serie_duplicada_ana) > len(posto_duplicados_inmet):\n",
    "                    serie_inmet.drop([posto_duplicados_inmet], axis=1)\n",
    "                    df_inmet = df_inmet[df_inmet.codigo != posto_duplicados_inmet]\n",
    "                else:\n",
    "                    serie_ana.drop([posto_duplicados_ana], axis=1)\n",
    "                    df_ana = df_ana[df_ana.codigo != posto_duplicados_ana]\n",
    "\n",
    "        log_ana = [modelos.Posto(**df_ana.loc[ix]).dict() for ix in df_ana.index]\n",
    "        log_inmet = [modelos.Posto(**df_inmet.loc[ix]).dict() for ix in df_inmet.index]\n",
    "\n",
    "        logs = [*log_ana, *log_inmet]\n",
    "        arquivo_json = Path(dir_prec, f'coords_{bacia}.json')\n",
    "        with open(arquivo_json, 'w') as f:\n",
    "            json.dump(logs, f)\n",
    "\n",
    "        df = pd.concat([serie_ana, serie_inmet], axis=1)\n",
    "        df.to_csv(f\"{dir_prec}/{bacia}.csv\")\n",
    "\n",
    "    except (EmptyDataError):\n",
    "        print(f\"Não existem séries disponíveis na bacia {bacia}\")"
   ]
  },
  {
   "cell_type": "code",
   "execution_count": null,
   "metadata": {},
   "outputs": [],
   "source": []
  }
 ],
 "metadata": {
  "interpreter": {
   "hash": "3344db47b484e118b2a39f253c75280a5000aa7b17e9e2f794acb36ec2c9bee6"
  },
  "kernelspec": {
   "display_name": "Python 3.9.7 64-bit ('dev-grade': conda)",
   "name": "python3"
  },
  "language_info": {
   "codemirror_mode": {
    "name": "ipython",
    "version": 3
   },
   "file_extension": ".py",
   "mimetype": "text/x-python",
   "name": "python",
   "nbconvert_exporter": "python",
   "pygments_lexer": "ipython3",
   "version": "3.9.7"
  },
  "orig_nbformat": 4
 },
 "nbformat": 4,
 "nbformat_minor": 2
}
