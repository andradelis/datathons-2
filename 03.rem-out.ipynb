{
 "cells": [
  {
   "cell_type": "code",
   "execution_count": 3,
   "id": "b146ebf5-dffc-4e94-b1ed-fb19cb8c8942",
   "metadata": {},
   "outputs": [],
   "source": [
    "from pathlib import Path\n",
    "\n",
    "import matplotlib.pyplot as plt\n",
    "import numpy as np\n",
    "import pandas as pd\n",
    "from pyod.models.hbos import HBOS\n",
    "from sklearn.cluster import DBSCAN\n",
    "\n",
    "from tqdm import tqdm"
   ]
  },
  {
   "cell_type": "code",
   "execution_count": 16,
   "id": "a714febc-32a6-42e0-9349-83cad0a0bfca",
   "metadata": {},
   "outputs": [],
   "source": [
    "def dbscan(serie: pd.Series):\n",
    "    clusterizacao = DBSCAN(eps=0.4, min_samples=15).fit_predict(serie.values)\n",
    "    serie_clusterizada = serie.assign(cluster=clusterizacao)\n",
    "    clusters = np.unique(clusterizacao)\n",
    "    return clusters\n",
    "\n",
    "\n",
    "def hbos(serie: pd.Series, clusters):\n",
    "\n",
    "    mediana10 = serie.loc[serie.values > 0].median() * 10\n",
    "    \n",
    "    if serie.std().item() > mediana10.item():\n",
    "        contamination = 0.25\n",
    "    else:\n",
    "        contamination = 0.01   \n",
    "\n",
    "    serie = serie.assign(mes=serie.index.month)\n",
    "    serie = serie.assign(ano=serie.index.year)\n",
    "\n",
    "    hbos = HBOS(n_bins=clusters.shape[0], contamination=contamination, alpha=0.1, tol=0.9)\n",
    "    hbos.fit(serie)\n",
    "    outliers = hbos.predict(serie)\n",
    "    \n",
    "    serie = serie.assign(outlier=outliers)\n",
    "    return serie.loc[serie.outlier != 1].drop([\"mes\", \"ano\", \"outlier\"], axis=1)\n",
    "\n",
    "\n",
    "def remover_quatil_inferior(serie: pd.Series):\n",
    "    quantil_inferior = serie.loc[serie.values > 0].quantile(0.1).item()\n",
    "    return serie.replace({quantil_inferior: 0})"
   ]
  },
  {
   "cell_type": "code",
   "execution_count": 17,
   "id": "df53ea65-62e9-449a-a516-025123949a35",
   "metadata": {},
   "outputs": [
    {
     "name": "stderr",
     "output_type": "stream",
     "text": [
      "100%|██████████| 33/33 [00:11<00:00,  2.78it/s]\n"
     ]
    }
   ],
   "source": [
    "diretorio = Path(\"arquivos\", \"series-concatenadas\", \"Iguaçú.csv\")\n",
    "postos = pd.read_csv(diretorio, index_col=0)\n",
    "postos = postos.set_index(pd.to_datetime(postos.index, format=\"%Y-%m-%d\"))\n",
    "\n",
    "series_sem_outliers = list()\n",
    "\n",
    "for codigo_posto in tqdm(postos.columns):\n",
    "    serie = postos.loc[:, [codigo_posto]].copy().dropna()\n",
    "    serie = remover_quatil_inferior(serie)\n",
    "\n",
    "    serie = hbos(serie, dbscan(serie))\n",
    "    \n",
    "    series_sem_outliers.append(serie)\n",
    "\n",
    "diretorio_saida = Path(diretorio.parent, \"Iguaçú_sout.csv\")\n",
    "pd.concat(series_sem_outliers, axis=1).to_csv(diretorio_saida)"
   ]
  }
 ],
 "metadata": {
  "interpreter": {
   "hash": "9405e057c29e55d40f52fc1b8f962b8e766a6021da215d95862c1278d4851e42"
  },
  "kernelspec": {
   "display_name": "Python 3.9.7 64-bit ('datathons-2': conda)",
   "name": "python3"
  },
  "language_info": {
   "codemirror_mode": {
    "name": "ipython",
    "version": 3
   },
   "file_extension": ".py",
   "mimetype": "text/x-python",
   "name": "python",
   "nbconvert_exporter": "python",
   "pygments_lexer": "ipython3",
   "version": "3.9.7"
  }
 },
 "nbformat": 4,
 "nbformat_minor": 5
}
